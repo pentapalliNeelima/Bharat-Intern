{
 "cells": [
  {
   "cell_type": "code",
   "execution_count": 2,
   "id": "15965bc1",
   "metadata": {},
   "outputs": [
    {
     "name": "stdout",
     "output_type": "stream",
     "text": [
      "The best candidate is None\n"
     ]
    }
   ],
   "source": [
    "import nltk\n",
    "import re\n",
    "\n",
    "def parse_resume(resume_text):\n",
    "  \"\"\"Parses a resume and returns a list of keywords.\"\"\"\n",
    "  keywords = []\n",
    "  for match in re.finditer(r\"\\w+\", resume_text):\n",
    "    keyword = match.group()\n",
    "    if keyword.lower() in [\"python\", \"machine learning\", \"data science\"]:\n",
    "      keywords.append(keyword)\n",
    "  return keywords\n",
    "\n",
    "def find_candidate(resume_text, job_keywords):\n",
    "  \"\"\"Finds the candidate whose resume matches the most job keywords.\"\"\"\n",
    "  candidate_keywords = parse_resume(resume_text)\n",
    "  score = 0\n",
    "  for keyword in job_keywords:\n",
    "    if keyword in candidate_keywords:\n",
    "      score += 1\n",
    "  return score\n",
    "\n",
    "def find_best_candidate(resumes, job_keywords):\n",
    "  \"\"\"Finds the candidate with the highest score and name.\"\"\"\n",
    "  best_candidate = None\n",
    "  best_score = 0\n",
    "  best_name = None\n",
    "  for resume in resumes:\n",
    "    score = find_candidate(resume, job_keywords)\n",
    "    if score > best_score:\n",
    "      best_score = score\n",
    "      best_candidate = resume\n",
    "      best_name = re.findall(r\"(.*)\\s\", resume)[0]\n",
    "  return best_name\n",
    "\n",
    "if __name__ == \"__main__\":\n",
    "  resumes = [\n",
    "    \"\"\"\n",
    "    I am a Python developer named John Doe with experience in machine learning and data science.\n",
    "    I have a strong understanding of Python, NumPy, Pandas, Scikit-Learn, and TensorFlow.\n",
    "    I am also proficient in SQL and R.\n",
    "    \"\"\",\n",
    "    \"\"\"\n",
    "    I am a data scientist named Jane Doe with experience in machine learning and natural language processing.\n",
    "    I have a strong understanding of statistics, machine learning algorithms, and natural language processing techniques.\n",
    "    I am also proficient in Python, R, and Java.\n",
    "    \"\"\",\n",
    "    \"\"\"\n",
    "    I am a software engineer named Peter Doe with experience in web development and mobile development.\n",
    "    I have a strong understanding of object-oriented programming, web frameworks, and mobile development platforms.\n",
    "    I am also proficient in Java, Python, and JavaScript.\n",
    "    \"\"\",\n",
    "  ]\n",
    "  job_keywords = [\"python\", \"machine learning\", \"data science\"]\n",
    "  best_name = find_best_candidate(resumes, job_keywords)\n",
    "  print(f\"The best candidate is {best_name}\")\n"
   ]
  },
  {
   "cell_type": "code",
   "execution_count": null,
   "id": "83635f68",
   "metadata": {},
   "outputs": [],
   "source": []
  }
 ],
 "metadata": {
  "kernelspec": {
   "display_name": "Python 3 (ipykernel)",
   "language": "python",
   "name": "python3"
  },
  "language_info": {
   "codemirror_mode": {
    "name": "ipython",
    "version": 3
   },
   "file_extension": ".py",
   "mimetype": "text/x-python",
   "name": "python",
   "nbconvert_exporter": "python",
   "pygments_lexer": "ipython3",
   "version": "3.10.9"
  }
 },
 "nbformat": 4,
 "nbformat_minor": 5
}

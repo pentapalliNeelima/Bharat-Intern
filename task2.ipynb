{
 "cells": [
  {
   "cell_type": "code",
   "execution_count": null,
   "id": "c65bc82b",
   "metadata": {},
   "outputs": [],
   "source": [
    "from autocorrect import Speller\n",
    "\n",
    "def correct_word(word):\n",
    "    spell = Speller()\n",
    "    corrected_word = spell(word)\n",
    "    return corrected_word\n",
    "\n",
    "\n",
    "word = input(\"Enter a word: \")\n",
    "\n",
    "\n",
    "corrected_word = correct_word(word)\n",
    "print(f\"Original word: {word}\")\n",
    "print(f\"Corrected word: {corrected_word}\")\n"
   ]
  },
  {
   "cell_type": "code",
   "execution_count": null,
   "id": "5ae76ebb",
   "metadata": {},
   "outputs": [],
   "source": []
  }
 ],
 "metadata": {
  "kernelspec": {
   "display_name": "Python 3 (ipykernel)",
   "language": "python",
   "name": "python3"
  },
  "language_info": {
   "codemirror_mode": {
    "name": "ipython",
    "version": 3
   },
   "file_extension": ".py",
   "mimetype": "text/x-python",
   "name": "python",
   "nbconvert_exporter": "python",
   "pygments_lexer": "ipython3",
   "version": "3.10.9"
  }
 },
 "nbformat": 4,
 "nbformat_minor": 5
}

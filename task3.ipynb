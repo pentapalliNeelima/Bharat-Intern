{
 "cells": [
  {
   "cell_type": "code",
   "execution_count": 9,
   "id": "1bbd4989",
   "metadata": {},
   "outputs": [
    {
     "name": "stdout",
     "output_type": "stream",
     "text": [
      "Enter the text to translate: how are you\n",
      "Original text: how are you\n",
      "Translated text: మీరు ఎలా ఉన్నారు\n"
     ]
    }
   ],
   "source": [
    "from googletrans import Translator\n",
    "\n",
    "def translate_text(text, src_lang, dest_lang):\n",
    "    translator = Translator(service_urls=['translate.google.com'])\n",
    "    translation = translator.translate(text, src=src_lang, dest=dest_lang)\n",
    "    translated_text = translation.text\n",
    "    return translated_text\n",
    "\n",
    "\n",
    "text = input(\"Enter the text to translate: \")\n",
    "src_lang = 'en'\n",
    "dest_lang = 'te' \n",
    "\n",
    "translated_text = translate_text(text, src_lang, dest_lang)\n",
    "print(f\"Original text: {text}\")\n",
    "print(f\"Translated text: {translated_text}\")\n"
   ]
  },
  {
   "cell_type": "code",
   "execution_count": null,
   "id": "2f533eff",
   "metadata": {},
   "outputs": [],
   "source": []
  }
 ],
 "metadata": {
  "kernelspec": {
   "display_name": "Python 3 (ipykernel)",
   "language": "python",
   "name": "python3"
  },
  "language_info": {
   "codemirror_mode": {
    "name": "ipython",
    "version": 3
   },
   "file_extension": ".py",
   "mimetype": "text/x-python",
   "name": "python",
   "nbconvert_exporter": "python",
   "pygments_lexer": "ipython3",
   "version": "3.10.9"
  }
 },
 "nbformat": 4,
 "nbformat_minor": 5
}
